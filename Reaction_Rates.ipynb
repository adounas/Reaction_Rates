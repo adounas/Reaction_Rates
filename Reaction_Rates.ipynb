{
  "nbformat": 4,
  "nbformat_minor": 0,
  "metadata": {
    "colab": {
      "name": "Reaction_Rates.ipynb",
      "version": "0.3.2",
      "provenance": [],
      "include_colab_link": true
    },
    "kernelspec": {
      "name": "python3",
      "display_name": "Python 3"
    }
  },
  "cells": [
    {
      "cell_type": "markdown",
      "metadata": {
        "id": "view-in-github",
        "colab_type": "text"
      },
      "source": [
        "[View in Colaboratory](https://colab.research.google.com/github/adounas/Reaction_Rates/blob/develop/Reaction_Rates.ipynb)"
      ]
    },
    {
      "metadata": {
        "id": "mKEviJ5QqOxz",
        "colab_type": "code",
        "colab": {}
      },
      "cell_type": "code",
      "source": [
        "def clearall():\n",
        "  all = [var for var in globals() if (var[:2], var[-2:]) != (\"__\", \"__\")]\n",
        "  for var in all:\n",
        "    del globals()[var]"
      ],
      "execution_count": 0,
      "outputs": []
    },
    {
      "metadata": {
        "id": "vFY7R6BIqMff",
        "colab_type": "code",
        "colab": {}
      },
      "cell_type": "code",
      "source": [
        "clearall()"
      ],
      "execution_count": 0,
      "outputs": []
    },
    {
      "metadata": {
        "id": "j5D_bSaEqKJ7",
        "colab_type": "code",
        "colab": {}
      },
      "cell_type": "code",
      "source": [
        "import tensorflow as tf\n",
        "import numpy as np"
      ],
      "execution_count": 0,
      "outputs": []
    },
    {
      "metadata": {
        "id": "B8MBEK-TqpI5",
        "colab_type": "code",
        "colab": {}
      },
      "cell_type": "code",
      "source": [
        "x_names=['Pyr','Bic','Lac']          # names of components in the reaction associate with conecntration stored in x\n",
        "In_Yr=[[1,0,0],[1,0,0],[0,0,1]]      # reactant ratios for each reaction\n",
        "In_Yp=[[0,1,0],[0,0,1],[1,0,0]]      # product ratios for each reaction\n",
        "In_dt=0.01                           # time lapse for each simulation step\n",
        "TR = 1\n",
        "\n",
        "x0=[0.1,0,0]                         # intial concentrations for reaction components\n",
        "In_k=[3,6,2]                         # constant for each reaction\n",
        "T1 = np.array([40,30,30])            # T1 relaxation time\n",
        "alphap = [np.pi/90,np.pi/3,np.pi/3]  # flip angle"
      ],
      "execution_count": 0,
      "outputs": []
    },
    {
      "metadata": {
        "id": "iJYmPHDAqnmq",
        "colab_type": "code",
        "colab": {}
      },
      "cell_type": "code",
      "source": [
        "# TEST\n",
        "\n",
        "x_names=['Pyr','Bic','Lac']          # names of components in the reaction associate with conecntration stored in x\n",
        "reactants=[[1,0,0],[1,0,0],[0,0,1]]  # reactant ratios for each reaction\n",
        "products=[[0,1,0],[0,0,1],[1,0,0]]   # product ratios for each reaction\n",
        "In_dt=0.01                           # time lapse for each simulation step\n",
        "TR = 1\n",
        "\n",
        "x0=[0.1,0,0]                         # intial concentrations for reaction components\n",
        "In_k=[3,10,2]                        # constant for each reaction\n",
        "T1 = np.array([40,30,30])            # T1 relaxation time\n",
        "alphap = [np.pi/90,np.pi/3,np.pi/3]  # flip angle"
      ],
      "execution_count": 0,
      "outputs": []
    },
    {
      "metadata": {
        "id": "Kr6NU-f5qGnq",
        "colab_type": "code",
        "colab": {}
      },
      "cell_type": "code",
      "source": [
        "# Build tensorflow graph of single simulation step return the new concentration x after simulation step\n",
        "def SimulationStep(x,In_Yr,In_Yp,In_k,In_dt):\n",
        "    Yr  = tf.constant(In_Yr,tf.float32) # Reactant ratios for each reaction\n",
        "    Yp  = tf.constant(In_Yp,tf.float32) # Product ratios for each reaction\n",
        "    k   = tf.constant(In_k,tf.float32)  # Reaction constants for each reaction\n",
        "    dt  = tf.constant(In_dt,tf.float32) # time lapse for each simulation step\n",
        "    s1  = tf.pow(x,Yr)                  # x to the power of Yr\n",
        "    s2  = tf.reduce_prod(s1,1)          # computes product of elements across dimensions\n",
        "    r   = k*s2                          # Reaction rates\n",
        "    s4  = tf.scalar_mul(dt,r)\n",
        "    Yd  = Yp-Yr                         # Change in concentrations attribute to each reaction\n",
        "    dxij= s4*tf.transpose(Yd)           # concentration changes each reaction in this step***\n",
        "    dx  = tf.reduce_sum(dxij,1)         # sum of concentration changes from all reactions in this step***\n",
        "    xp  = x+dx                          # New concentration after steps\n",
        "    return(xp)"
      ],
      "execution_count": 0,
      "outputs": []
    },
    {
      "metadata": {
        "id": "R4sPb7MjqBw-",
        "colab_type": "code",
        "colab": {}
      },
      "cell_type": "code",
      "source": [
        "x=tf.placeholder(tf.float32)         # conentrations for each component this is placeholder and not variable/constant since we need to update it each cycle\n",
        "xp=SimulationStep(x,In_Yr,In_Yp,In_k,In_dt) # Build tensorflow graph of single simulation step return the new concentration x after simulation step\n",
        "\n",
        "sess = tf.Session()                  # start interactive session the difference between this and regular session is that interactive session established itself as the defult session hence you dont need to specify the session every time you use eval\n",
        "sess.run(tf.global_variables_initializer()) # initialize variables\n",
        "NumSteps=100                         # number of simulation step\n",
        "Lapse=1                              # lapses between which data will be gathered and saved for graph\n",
        "Tlapse=np.zeros(round(NumSteps/Lapse)+1,dtype=np.float32) # array containing the times in which the data were collected\n",
        "x_sample=np.zeros([round(NumSteps/Lapse)+1,len(x_names)],dtype=np.float32) # sample x (concentrations)  during simulation\n",
        "Tlapse[0]=0                          # Set initial simulation time as zero\n",
        "x_sample[0]=x0                       # record initial commponent concentration\n",
        "\n",
        "for i in range(NumSteps):            # Run simulation for NumSteps\n",
        "    x0=sess.run(xp,feed_dict={x:x0}) # run numeric simulation step\n",
        "    if (i%Lapse)==0:                 # collect the concentration in lapse of several simulation steps for graph (once every Lapse Steps)\n",
        "        x_sample[round(i/Lapse)+1]=x0\n",
        "        Tlapse[round(i/Lapse)+1]=i*In_dt"
      ],
      "execution_count": 0,
      "outputs": []
    },
    {
      "metadata": {
        "id": "D43cHWi6p9ow",
        "colab_type": "code",
        "colab": {}
      },
      "cell_type": "code",
      "source": [
        "# adjust signal for T1 relaxation and excitation losses\n",
        "for i in range(NumSteps+1):\n",
        "  x_sample[i] = x_sample[i]*np.exp(-i/T1-(np.log(np.cos(alphap))/TR))"
      ],
      "execution_count": 0,
      "outputs": []
    },
    {
      "metadata": {
        "id": "B3E_r352pNt1",
        "colab_type": "code",
        "colab": {}
      },
      "cell_type": "code",
      "source": [
        "# concatenate all runs in one data vector\n",
        "try:\n",
        "  DataVec\n",
        "except NameError:\n",
        "  DataVec = np.array([x_sample])    \n",
        "\n",
        "NewDataVec = np.expand_dims(x_sample, axis=0)\n",
        "DataVec = np.append(DataVec, NewDataVec,0)\n",
        "\n",
        "# concatenate all initial values in one target vector\n",
        "try:\n",
        "  TargetVec\n",
        "except NameError:\n",
        "  TargetVec = np.array([In_k])\n",
        "  \n",
        "NewTargetVec = np.expand_dims(In_k, axis=0)\n",
        "TargetVec = np.append(TargetVec, NewTargetVec,0)"
      ],
      "execution_count": 0,
      "outputs": []
    },
    {
      "metadata": {
        "id": "IrH-Mt7tpu1f",
        "colab_type": "code",
        "colab": {
          "base_uri": "https://localhost:8080/",
          "height": 51
        },
        "outputId": "550773b4-c50b-47af-b45a-a47e4b6bd984"
      },
      "cell_type": "code",
      "source": [
        "print(DataVec.shape)\n",
        "print(TargetVec.shape)"
      ],
      "execution_count": 95,
      "outputs": [
        {
          "output_type": "stream",
          "text": [
            "(8, 101, 3)\n",
            "(8, 3)\n"
          ],
          "name": "stdout"
        }
      ]
    },
    {
      "metadata": {
        "id": "JSbTFI-xpmbM",
        "colab_type": "code",
        "colab": {
          "base_uri": "https://localhost:8080/",
          "height": 463
        },
        "outputId": "8e303605-209c-473f-abfb-558500711710"
      },
      "cell_type": "code",
      "source": [
        "PlotData = DataVec[-1]\n",
        "\n",
        "import matplotlib.pyplot as plt\n",
        "for c,label in zip(PlotData.swapaxes(0,1),x_names):\n",
        "    plt.plot(Tlapse,c,label=label)\n",
        "plt.legend(loc='upper left')\n",
        "plt.xlabel(\"Time\")\n",
        "plt.ylabel(\"concentration\")\n",
        "plt.show()\n",
        "\n",
        "print('                Pyr, Bic, Lac')\n",
        "print('x0:            ',x0)\n",
        "print('T1:            ',T1)\n",
        "print('flip angles:   ',alphap)\n",
        "print('                P-B, P-L, L-P')\n",
        "print('rate constants:',In_k)"
      ],
      "execution_count": 96,
      "outputs": [
        {
          "output_type": "display_data",
          "data": {
            "image/png": "[encoded data removed]",
            "text/plain": [
              "<matplotlib.figure.Figure at 0x7f480ac762b0>"
            ]
          },
          "metadata": {
            "tags": []
          }
        },
        {
          "output_type": "stream",
          "text": [
            "                Pyr, Bic, Lac\n",
            "x0:             [0.00742109 0.04586797 0.04671092]\n",
            "T1:             [40 30 30]\n",
            "flip angles:    [0.03490658503988659, 1.0471975511965976, 1.0471975511965976]\n",
            "                P-B, P-L, L-P\n",
            "rate constants: [3, 10, 2]\n"
          ],
          "name": "stdout"
        }
      ]
    },
    {
      "metadata": {
        "id": "bBNVGzUkuH8w",
        "colab_type": "text"
      },
      "cell_type": "markdown",
      "source": [
        "Prepare Network:\n",
        "Initialize training and validation data"
      ]
    },
    {
      "metadata": {
        "id": "Y5R5gcZjrpSG",
        "colab_type": "code",
        "colab": {
          "base_uri": "https://localhost:8080/",
          "height": 68
        },
        "outputId": "e171d35b-bc72-47e6-b862-a566009e6f6f"
      },
      "cell_type": "code",
      "source": [
        "# Choose the first examples for training.\n",
        "percentTraining = 0.7\n",
        "nSamples = DataVec.shape[0]\n",
        "nTrainingExamples = percentTraining * nSamples\n",
        "nTrainingExamples = np.ceil(nTrainingExamples)\n",
        "nValidationExamples = nSamples - nTrainingExamples\n",
        "\n",
        "print(nSamples)\n",
        "print(nTrainingExamples)\n",
        "print(nValidationExamples)"
      ],
      "execution_count": 97,
      "outputs": [
        {
          "output_type": "stream",
          "text": [
            "8\n",
            "6.0\n",
            "2.0\n"
          ],
          "name": "stdout"
        }
      ]
    }
  ]
}